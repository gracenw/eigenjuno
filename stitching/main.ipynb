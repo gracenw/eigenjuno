{
 "cells": [
  {
   "cell_type": "code",
   "execution_count": 1,
   "metadata": {},
   "outputs": [
    {
     "name": "stdout",
     "output_type": "stream",
     "text": [
      "/home/uzumochi/eigenjuno/data/raw/perijove_9\n"
     ]
    }
   ],
   "source": [
    "# import libraries and navigate to directory\n",
    "%cd '/home/uzumochi/eigenjuno/data/raw/perijove_9'\n",
    "from stitch import *\n",
    "from mpl_toolkits.mplot3d import Axes3D\n",
    "import matplotlib.pyplot as plt\n",
    "import matplotlib.image as mpimg\n",
    "import os, threading, time, multiprocessing, logging, sys, json, math"
   ]
  },
  {
   "cell_type": "code",
   "execution_count": 2,
   "metadata": {},
   "outputs": [],
   "source": [
    "# handle frequent spice exceptions - code still runs fine\n",
    "f_err = sys.stderr = open('errors.txt', 'w')\n",
    "get_ipython().log.handlers[0].stream = f_err\n",
    "get_ipython().log.setLevel(logging.INFO)"
   ]
  },
  {
   "cell_type": "code",
   "execution_count": 5,
   "metadata": {},
   "outputs": [],
   "source": [
    "# stitch function for thread, taken largely from the reddit post linked in repo desc\n",
    "def stitch(meta_num):\n",
    "    im_info = meta_num + '-Metadata.json'\n",
    "    with open(im_info, 'r') as json_file:\n",
    "        im_info_dir = json.load(json_file)\n",
    "        image = im_info_dir['FILE_NAME']\n",
    "        image_time = im_info_dir['IMAGE_TIME']\n",
    "    \n",
    "    img = Image.open(image)\n",
    "    im_ar = np.array(img)\n",
    "    \n",
    "    s1, s2 = im_ar.shape\n",
    "\n",
    "    start_time = im_info_dir[\"START_TIME\"]\n",
    "    frame_delay = float(im_info_dir[\"INTERFRAME_DELAY\"].split()[0])+0.001\n",
    "    \n",
    "    start_correction, frame_delay = correct_image_start_time_and_frame_delay(im_ar, start_time, frame_delay)\n",
    "    \n",
    "    framelets = generate_framelets(im_ar, start_time, start_correction, frame_delay)\n",
    "    # removed color correction - im_ar.astype(np.int) ** 2\n",
    "\n",
    "    cam_pos, cam_orient = get_junocam_jupiter_rel_pos_orient(start_time, start_correction + 17 * frame_delay)\n",
    "\n",
    "    y, x = np.mgrid[-1024:1024,-1024:1024]\n",
    "    x += 300\n",
    "    y += 50\n",
    "    rays = np.concatenate([x[...,None], y[...,None], np.ones(((2048),(2048),1))*fl[0]], axis=-1)\n",
    "    rays = rays.dot(cam_orient)\n",
    "\n",
    "    surface_raster, _ = project_onto_jupiter_surf(cam_pos, rays)\n",
    "    \n",
    "#     with open('surf_points.txt') as f:\n",
    "#         f.write(surface_raster)\n",
    "\n",
    "    colors = np.zeros(((2048),(2048),3))\n",
    "    color_counts = np.zeros(((2048),(2048),3))\n",
    "\n",
    "    for k,framelet in enumerate(framelets):\n",
    "        print(str(meta_num) + ': processing framelet {} of {}..'.format(k+1, len(framelets)))\n",
    "        col = framelet.color\n",
    "        brightnesses, valid_map = framelet.get_pixel_val_at_surf_point(surface_raster) # this is where it slows down\n",
    "        colors[...,2-col] += brightnesses\n",
    "        color_counts[...,2-col] += valid_map\n",
    "\n",
    "    colors /= np.maximum(color_counts, 1)\n",
    "    colors *= 255 / np.max(colors)\n",
    "\n",
    "    colors = colors.astype(np.uint8)\n",
    "\n",
    "    new_img = Image.fromarray(colors)\n",
    "    new_img.save(\"out_\" + str(meta_num) + \".png\")"
   ]
  },
  {
   "cell_type": "code",
   "execution_count": 6,
   "metadata": {
    "scrolled": false
   },
   "outputs": [
    {
     "name": "stdout",
     "output_type": "stream",
     "text": [
      "Processing the following images: 3094, 3100\n",
      "Running 2 threads\n",
      "3100: processing framelet 1 of 102..\n",
      "3094: processing framelet 1 of 126..\n",
      "done! :D\n"
     ]
    }
   ],
   "source": [
    "#begin multithreaded execution - this will process all images in a directory, assuming they are from the same perijove\n",
    "img_nums = []\n",
    "for files in os.listdir('/home/uzumochi/eigenjuno/data/raw/perijove_9'):\n",
    "    if files.endswith('.json') and not os.path.isfile('out_' + files[0 : 4] + '.png'):\n",
    "        img_nums.append(files[0 : 4])\n",
    "print_str = 'Processing the following images: '\n",
    "for im in img_nums:\n",
    "    print_str += (im + ', ')\n",
    "print_str = print_str[:-2]\n",
    "print(print_str)\n",
    "\n",
    "num_cpus = multiprocessing.cpu_count() - 1\n",
    "curr = 0\n",
    "\n",
    "while curr < len(img_nums):\n",
    "    threads = []\n",
    "    num_threads = num_cpus if num_cpus < len(img_nums) else len(img_nums)\n",
    "    print('Running ' + str(num_threads) + ' threads')\n",
    "    for t in range(num_threads):\n",
    "        try:\n",
    "            threads.append(threading.Thread(target = stitch, args = (str(img_nums[curr]), )))\n",
    "        except IndexError:\n",
    "            print('\\nStarting new round of threads')\n",
    "        threads[t].start()\n",
    "        curr += 1\n",
    "    for t in threads:\n",
    "        t.join()\n",
    "\n",
    "print(\"done! :D\")"
   ]
  },
  {
   "cell_type": "code",
   "execution_count": null,
   "metadata": {},
   "outputs": [],
   "source": []
  }
 ],
 "metadata": {
  "kernelspec": {
   "display_name": "Python 3 (ipykernel)",
   "language": "python",
   "name": "python3"
  },
  "language_info": {
   "codemirror_mode": {
    "name": "ipython",
    "version": 3
   },
   "file_extension": ".py",
   "mimetype": "text/x-python",
   "name": "python",
   "nbconvert_exporter": "python",
   "pygments_lexer": "ipython3",
   "version": "3.8.12"
  }
 },
 "nbformat": 4,
 "nbformat_minor": 4
}
