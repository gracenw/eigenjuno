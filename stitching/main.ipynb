{
 "cells": [
  {
   "cell_type": "code",
   "execution_count": 1,
   "metadata": {},
   "outputs": [
    {
     "name": "stdout",
     "output_type": "stream",
     "text": [
      "/home/uzumochi/eigenjuno/data/raw\n",
      "CSPICE_N0066\n"
     ]
    }
   ],
   "source": [
    "# import libraries and navigate to directory\n",
    "%cd '/home/uzumochi/eigenjuno/data/raw'\n",
    "import numpy as np\n",
    "from mpl_toolkits.mplot3d import Axes3D\n",
    "import matplotlib.pyplot as plt\n",
    "from PIL import Image\n",
    "import json, cv2, warnings, os, threading, time\n",
    "from util import *\n",
    "from framelets import *\n",
    "from jitter_correction import *\n",
    "from warnings import filterwarnings\n",
    "filterwarnings('ignore')"
   ]
  },
  {
   "cell_type": "code",
   "execution_count": 2,
   "metadata": {},
   "outputs": [],
   "source": [
    "# pass 'names' of images to stitch here\n",
    "# naming convention - 'raw_<name>.png' and 'meta_<name>.json'\n",
    "thread_1 = 'test1'\n",
    "thread_2 = 'test2'\n",
    "thread_3 = ''\n",
    "# number of threads adjustable! this is just about as much as my pc can handle"
   ]
  },
  {
   "cell_type": "code",
   "execution_count": 3,
   "metadata": {},
   "outputs": [],
   "source": [
    "# stitch function for thread, taken largely from the reddit post linked in repo desc\n",
    "# one change i would like to make is centering the stitching around the actual planet\n",
    "# (in some outputs most of the stitched image will be just black space if image not large enough)\n",
    "def stitch(name):\n",
    "    image = 'raw_' + str(name) + '.png'\n",
    "    im_info = 'meta_' + str(name) + '.json'\n",
    "    with open(im_info, 'rb') as json_file:\n",
    "        im_info_dir = json.load(json_file)\n",
    "\n",
    "    img = Image.open(image)\n",
    "    im_ar = np.array(img)\n",
    "    s1, s2 = im_ar.shape\n",
    "\n",
    "    start_time = im_info_dir[\"START_TIME\"]\n",
    "    frame_delay = float(im_info_dir[\"INTERFRAME_DELAY\"].split()[0])+0.001\n",
    "\n",
    "    start_correction, frame_delay = correct_image_start_time_and_frame_delay(im_ar, start_time, frame_delay)\n",
    "\n",
    "    framelets = generate_framelets(im_ar, start_time, start_correction, frame_delay)\n",
    "    # removed color correction - im_ar.astype(np.int) ** 2\n",
    "\n",
    "    cam_pos, cam_orient = get_junocam_jupiter_rel_pos_orient(start_time, start_correction + 17 * frame_delay)\n",
    "\n",
    "    y, x = np.mgrid[-1024:1024,-1024:1024]\n",
    "    x += 300\n",
    "    y += 50\n",
    "    rays = np.concatenate([x[...,None], y[...,None], np.ones(((2048),(2048),1))*fl[0]], axis=-1)\n",
    "    rays = rays.dot(cam_orient)\n",
    "\n",
    "    surface_raster, _ = project_onto_jupiter_surf(cam_pos, rays)\n",
    "\n",
    "    colors = np.zeros(((2048),(2048),3))\n",
    "    color_counts = np.zeros(((2048),(2048),3))\n",
    "\n",
    "    for k,framelet in enumerate(framelets):\n",
    "        print(str(name) + ': processing framelet {} of {}..'.format(k+1, len(framelets)))\n",
    "        col = framelet.color\n",
    "        brightnesses, valid_map = framelet.get_pixel_val_at_surf_point(surface_raster)\n",
    "        colors[...,2-col] += brightnesses\n",
    "        color_counts[...,2-col] += valid_map\n",
    "\n",
    "    colors /= np.maximum(color_counts, 1)\n",
    "    colors *= 255 / np.max(colors)\n",
    "\n",
    "    colors = colors.astype(np.uint8)\n",
    "\n",
    "    new_img = Image.fromarray(colors)\n",
    "    new_img.save(\"out_\" + str(name) + \".png\")"
   ]
  },
  {
   "cell_type": "code",
   "execution_count": null,
   "metadata": {},
   "outputs": [
    {
     "name": "stdout",
     "output_type": "stream",
     "text": [
      "test1: processing framelet 1 of 42..\n",
      "test2: processing framelet 1 of 72..\n",
      "test1: processing framelet 2 of 42..\n",
      "test2: processing framelet 2 of 72..\n",
      "test1: processing framelet 3 of 42..\n",
      "test1: processing framelet 4 of 42..\n",
      "test2: processing framelet 3 of 72..\n",
      "test1: processing framelet 5 of 42..\n",
      "test2: processing framelet 4 of 72..\n",
      "test1: processing framelet 6 of 42..\n",
      "test2: processing framelet 5 of 72..\n",
      "test1: processing framelet 7 of 42..\n",
      "test1: processing framelet 8 of 42..\n",
      "test2: processing framelet 6 of 72..\n",
      "test1: processing framelet 9 of 42..\n",
      "test2: processing framelet 7 of 72..\n",
      "test1: processing framelet 10 of 42..\n",
      "test2: processing framelet 8 of 72..\n",
      "test1: processing framelet 11 of 42..\n",
      "test1: processing framelet 12 of 42..\n",
      "test2: processing framelet 9 of 72..\n"
     ]
    }
   ],
   "source": [
    "#begin multithreaded execution\n",
    "if thread_1:\n",
    "    t1 = threading.Thread(target=stitch, args=(thread_1,))\n",
    "    t1.start()\n",
    "if thread_2:\n",
    "    t2 = threading.Thread(target=stitch, args=(thread_2,))\n",
    "    t2.start()\n",
    "if thread_3:\n",
    "    t3 = threading.Thread(target=stitch, args=(thread_3,))\n",
    "    t3.start()\n",
    "    \n",
    "if t1:\n",
    "    t1.join()\n",
    "if t2:\n",
    "    t2.join()\n",
    "if t3: \n",
    "    t3.join()\n",
    "\n",
    "print(\"done! :D\")"
   ]
  },
  {
   "cell_type": "code",
   "execution_count": null,
   "metadata": {},
   "outputs": [],
   "source": []
  }
 ],
 "metadata": {
  "kernelspec": {
   "display_name": "Python 3",
   "language": "python",
   "name": "python3"
  },
  "language_info": {
   "codemirror_mode": {
    "name": "ipython",
    "version": 3
   },
   "file_extension": ".py",
   "mimetype": "text/x-python",
   "name": "python",
   "nbconvert_exporter": "python",
   "pygments_lexer": "ipython3",
   "version": "3.8.5"
  }
 },
 "nbformat": 4,
 "nbformat_minor": 4
}
