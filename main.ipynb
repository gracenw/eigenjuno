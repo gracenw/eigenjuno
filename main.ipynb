{
 "cells": [
  {
   "cell_type": "code",
   "execution_count": 1,
   "metadata": {},
   "outputs": [],
   "source": [
    "## import custom functions\n",
    "from eigenjuno import *"
   ]
  },
  {
   "cell_type": "code",
   "execution_count": 2,
   "metadata": {},
   "outputs": [],
   "source": [
    "## figure readbility\n",
    "plt.rcParams.update({'font.family': 'Serif'})\n",
    "plt.rcParams.update({'font.size': 16})\n",
    "plt.rcParams.update({'figure.max_open_warning': 0})"
   ]
  },
  {
   "cell_type": "code",
   "execution_count": 3,
   "metadata": {},
   "outputs": [],
   "source": [
    "## useful globals\n",
    "TRAIN_DIR = os.path.expanduser(\"~/eigenjuno/DATA/TRAIN/\")\n",
    "TEST_DIR = os.path.expanduser(\"~/eigenjuno/DATA/TEST/\")\n",
    "KERNEL_DIR = os.path.expanduser(\"~/eigenjuno/STITCHING/KERNELS/\")\n",
    "TRAIN_SIZE = 400\n",
    "TEST_IMGS = [5192, 6582, 6587, 6743, 6745, 6746, 6749, 6750, 6881, 6882, 6883, 6884, 6923, 6978, 6980, 6983, 6984, 6991, 6993, 6994, 10348]"
   ]
  },
  {
   "cell_type": "code",
   "execution_count": null,
   "metadata": {},
   "outputs": [],
   "source": [
    "## read in data and tags\n",
    "data, tags = read_data(TRAIN_DIR, TRAIN_SIZE)"
   ]
  },
  {
   "cell_type": "code",
   "execution_count": null,
   "metadata": {},
   "outputs": [],
   "source": [
    "## train and return svm and pca models\n",
    "svm, pca = train(data, tags)"
   ]
  },
  {
   "cell_type": "code",
   "execution_count": null,
   "metadata": {
    "scrolled": true,
    "tags": []
   },
   "outputs": [
    {
     "name": "stdout",
     "output_type": "stream",
     "text": [
      "Running image 5192 through test pipeline\n",
      "Running image 6582 through test pipeline\n",
      "Running image 6587 through test pipeline\n",
      "Running image 6743 through test pipeline\n"
     ]
    }
   ],
   "source": [
    "## test series of images, log detections, save some useful figures\n",
    "for TEST_NAME in TEST_IMGS:\n",
    "    print('Running image', TEST_NAME, 'through test pipeline')\n",
    "    detections = test(TEST_DIR, TEST_NAME)\n",
    "    log_detections(TEST_DIR, TEST_NAME, detections)"
   ]
  },
  {
   "cell_type": "code",
   "execution_count": null,
   "metadata": {},
   "outputs": [],
   "source": [
    "## load kernels\n",
    "load_kernels(KERNEL_DIR)\n",
    "\n",
    "## read image metadata\n",
    "et = get_etime(TEST_DIR, TEST_NAME)\n",
    "\n",
    "## get positional data\n",
    "long, lat, orient = get_position(et)\n",
    "\n",
    "## convert surface raster to lat/long\n",
    "coords = raster_to_planeto(TEST_DIR, TEST_NAME)"
   ]
  },
  {
   "cell_type": "code",
   "execution_count": null,
   "metadata": {},
   "outputs": [],
   "source": [
    "## contrast and resize new training images\n",
    "for r, d, f in os.walk(TRAIN_DIR + 'PROCESS/'):\n",
    "    for file in f:\n",
    "        num = int(file.split('.')[0])\n",
    "        img = contrast_resize(os.path.join(TRAIN_DIR, 'PROCESS/' + str(num) + '.png'), (256, 256))\n",
    "        plt.imsave(os.path.join(TRAIN_DIR, 'ONE/' + str(num) + '.png'), img)"
   ]
  },
  {
   "cell_type": "code",
   "execution_count": null,
   "metadata": {},
   "outputs": [],
   "source": [
    "## display contrasted dataset\n",
    "fig, axes = plt.subplots(7, 7, figsize = (15, 20));\n",
    "for i, ax in enumerate(axes.flat):\n",
    "    ax.imshow(data[i, :].reshape(VEC_DIM))\n",
    "    ax.title.set_text('VALUE ' + str(int(tags[i])))\n",
    "    ax.title.set_fontsize(14)\n",
    "    ax.axis('off')\n",
    "fig.savefig('FIGURES/display_dataset.png')"
   ]
  },
  {
   "cell_type": "code",
   "execution_count": null,
   "metadata": {},
   "outputs": [],
   "source": [
    "## visualize results with dataset test images\n",
    "fig, axes = plt.subplots(6, 6, figsize = (15, 20));\n",
    "for i, ax in enumerate(axes.flat):\n",
    "    ax.imshow(X_test[i - 1, :].reshape(VEC_DIM))\n",
    "    ax.title.set_text('VALUE ' + str(int(y_test[i - 1])) + \"\\n PREDICTED \" + str(int(y_pred[i - 1])))\n",
    "    ax.title.set_fontsize(14)\n",
    "    ax.axis('off')\n",
    "plt.savefig('FIGURES/sample_outputs.png')"
   ]
  },
  {
   "cell_type": "code",
   "execution_count": null,
   "metadata": {},
   "outputs": [],
   "source": [
    "## pca with minimal components\n",
    "pca_MIN = PCA(n_components = pca.components_.shape[0]).fit(data)\n",
    "plt.figure(figsize = (10, 7));\n",
    "plt.plot(pca_MIN.explained_variance_ratio_.cumsum(), color = 'seagreen');\n",
    "plt.xlabel('Number of Principal Components');\n",
    "plt.ylabel('Explained Variance Ratio');\n",
    "plt.title('Explained Variance Ratio of\\nPrincipal Components in a Contrasted Dataset');\n",
    "plt.savefig('FIGURES/pca_variance.png')"
   ]
  },
  {
   "cell_type": "code",
   "execution_count": null,
   "metadata": {},
   "outputs": [],
   "source": [
    "## visualize support vectors\n",
    "svm, pca = load_models()\n",
    "\n",
    "sv_indices = svm.support_\n",
    "\n",
    "fig, axes = plt.subplots(5, 4, figsize = (18, 22))\n",
    "for i, ax in enumerate(axes.flat):\n",
    "    if i < sv_indices.size:\n",
    "        ax.imshow(pca.inverse_transform(svm.support_vectors_[i, :]).reshape((VEC_DIM)).astype(float).clip(0, 1))\n",
    "        ax.axis('off')\n",
    "    else:\n",
    "        fig.delaxes(ax)\n",
    "        \n",
    "fig.savefig('FIGURES/support_vectors.png')"
   ]
  },
  {
   "cell_type": "code",
   "execution_count": null,
   "metadata": {},
   "outputs": [],
   "source": [
    "## visualize eigenfaces\n",
    "_, pca = load_models()\n",
    "\n",
    "fig, axes = plt.subplots(5, 4, figsize = (18, 25))\n",
    "for i, ax in enumerate(axes.flat):\n",
    "    if i < pca.components_.shape[0]:\n",
    "        ax.title.set_text(str(pca.singular_values_[i]))\n",
    "        ax.imshow((pca.components_[i, :].reshape((VEC_DIM)) * 255).astype(float).clip(0, 1))\n",
    "        ax.axis('off')\n",
    "    else:\n",
    "        fig.delaxes(ax)\n",
    "        \n",
    "fig.savefig('FIGURES/eigenfaces.png')"
   ]
  },
  {
   "cell_type": "code",
   "execution_count": null,
   "metadata": {},
   "outputs": [],
   "source": [
    "## retrain model with new data\n"
   ]
  },
  {
   "cell_type": "code",
   "execution_count": null,
   "metadata": {},
   "outputs": [],
   "source": [
    "## variance of training space parameter vs num support vectors\n",
    "_, pca = load_models()\n",
    "\n",
    "G_RANGE = np.logspace(-9, 1, 20)\n",
    "\n",
    "NUM_SVS = []\n",
    "\n",
    "data_PCA = pca.transform(data)\n",
    "\n",
    "for G in G_RANGE:\n",
    "    svm = SVC(C = 1, kernel = 'rbf', gamma = G, class_weight = 'balanced')\n",
    "    svm.fit(data_PCA, tags)\n",
    "    NUM_SVS.append(svm.support_vectors_.shape[0])\n",
    "    \n",
    "plt.figure(figsize = (10, 7));\n",
    "plt.plot(C_RANGE, NUM_SVS, color = 'lightcoral');\n",
    "plt.xscale('log');\n",
    "plt.xlabel('G');\n",
    "plt.ylabel('Support Vectors');\n",
    "plt.title('Gamma Value (Variance of Training Space)\\nvs. Number of Support Vectors')\n",
    "plt.savefig('FIGURES/gamma_sv_tradeoff.png')"
   ]
  },
  {
   "cell_type": "code",
   "execution_count": null,
   "metadata": {},
   "outputs": [],
   "source": [
    "## visualize variance of kernel parameter vs number of support vectors\n",
    "_, pca = load_models()\n",
    "\n",
    "C_RANGE = np.logspace(-2, 4, 20)\n",
    "\n",
    "NUM_SVS = []\n",
    "\n",
    "data_PCA = pca.transform(data)\n",
    "\n",
    "for C in C_RANGE:\n",
    "    svm = SVC(C = C, kernel = 'rbf', gamma = 'scale', class_weight = 'balanced')\n",
    "    svm.fit(data_PCA, tags)\n",
    "    NUM_SVS.append(svm.support_vectors_.shape[0])\n",
    "    \n",
    "plt.figure(figsize = (10, 7));\n",
    "plt.plot(C_RANGE, NUM_SVS, color = 'darkorchid');\n",
    "plt.xscale('log');\n",
    "plt.xlabel('C');\n",
    "plt.ylabel('Support Vectors');\n",
    "plt.title('Cost Value (L2 Regularization Parameter)\\nvs. Number of Support Vectors')\n",
    "plt.savefig('FIGURES/cost_sv_tradeoff.png')"
   ]
  },
  {
   "cell_type": "code",
   "execution_count": null,
   "metadata": {},
   "outputs": [],
   "source": [
    "## simple pca example with random 3D data\n",
    "fig = plt.figure(figsize = (15, 6))\n",
    "ax1 = fig.add_subplot(1, 2, 1, projection = '3d')\n",
    "ax2 = fig.add_subplot(1, 2, 2)\n",
    "\n",
    "n = 100\n",
    "\n",
    "xyz = np.empty((n, 3))\n",
    "\n",
    "## generate random 3D data\n",
    "xyz[:, 0] = np.linspace(0, 1, 100)\n",
    "xyz[:, 1] = np.sin(9 * xyz[:, 0]) + np.sqrt(1 / 3.0) * np.random.randn(n)\n",
    "xyz[:, 2] = np.random.rand(n)\n",
    "\n",
    "## define binary classes - green triangle, pink circle\n",
    "for i in range(xyz.shape[0]):\n",
    "    if xyz[i, 1] < 0.5:\n",
    "        ax1.scatter(xyz[i, 0], xyz[i, 1], xyz[i, 2], marker = '^', color = 'green')\n",
    "    else:\n",
    "        ax1.scatter(xyz[i, 0], xyz[i, 1], xyz[i, 2], marker = 'o', color = 'hotpink')\n",
    "\n",
    "ax1.set_xlabel('X')\n",
    "ax1.set_ylabel('Y')\n",
    "ax1.set_zlabel('Z')\n",
    "ax1.set_title('Data before PCA (3D)')\n",
    "\n",
    "for label in (ax1.get_xticklabels() + ax1.get_yticklabels() + ax1.get_zticklabels()):\n",
    "    label.set_fontsize(12)\n",
    "\n",
    "## reduce dimension from 3D to 2D\n",
    "pca_xyz = PCA(n_components = 2).fit(xyz)\n",
    "xyz_d = pca_xyz.transform(xyz)\n",
    "\n",
    "for i in range(xyz.shape[0]):\n",
    "    if xyz[i, 1] < 0.5:\n",
    "        ax2.scatter(xyz_d[i, 0], xyz_d[i, 1], marker = '^', color = 'green')\n",
    "    else:\n",
    "        ax2.scatter(xyz_d[i, 0], xyz_d[i, 1], marker = 'o', color = 'hotpink')\n",
    "\n",
    "ax2.set_xlabel('PC 1')\n",
    "ax2.set_ylabel('PC 2')\n",
    "ax2.set_title('Data after PCA (2D)')\n",
    "\n",
    "for label in (ax2.get_xticklabels() + ax2.get_yticklabels()):\n",
    "    label.set_fontsize(12)\n",
    "\n",
    "fig.savefig('FIGURES/pca_example.png')"
   ]
  },
  {
   "cell_type": "code",
   "execution_count": null,
   "metadata": {},
   "outputs": [],
   "source": [
    "## reduce junocam data to dimensions and visualize\n",
    "fig = plt.figure(figsize = (10, 7))\n",
    "ax = fig.add_subplot(1, 1, 1) # , projection = '3d'\n",
    "\n",
    "## reduce dimension from ND to 2D\n",
    "pca_xy = PCA(n_components = 2).fit(data)\n",
    "xy_d = pca_xy.transform(data)\n",
    "\n",
    "for i in range(data.shape[0]):\n",
    "    if tags[i] == 0:\n",
    "        ax.scatter(xy_d[i, 0], xy_d[i, 1], marker = '^', color = 'green')\n",
    "    else:\n",
    "        ax.scatter(xy_d[i, 0], xy_d[i, 1], marker = 'o', color = 'hotpink')\n",
    "\n",
    "ax.set_xlabel('PC 1')\n",
    "ax.set_ylabel('PC 2')\n",
    "ax.set_title('Reduced Dimensionality JunoCam Data (2D)')\n",
    "\n",
    "for label in (ax.get_xticklabels() + ax.get_yticklabels()):\n",
    "    label.set_fontsize(12)\n",
    "\n",
    "fig.savefig('FIGURES/pca_juno_2d.png')"
   ]
  },
  {
   "cell_type": "code",
   "execution_count": null,
   "metadata": {
    "tags": []
   },
   "outputs": [],
   "source": [
    "# svm, pca = load_models()\n",
    "# img = cv2.imread(os.path.join(TEST_DIR, '6582-Contrasted.png'))\n",
    "# b, g, r = cv2.split(img)\n",
    "# img = cv2.merge((r, g, b))\n",
    "# img = (img / 255)\n",
    "\n",
    "# split_img = np.empty((64, VEC_SIZE))\n",
    "# dist = np.zeros((64, 2))\n",
    "# start_row, end_row, start_col, end_col = 0, 256, 0, 256\n",
    "# valid_indices = []\n",
    "# index = 0\n",
    "# for i in range(64):\n",
    "#     block = img[start_row : end_row, start_col : end_col]\n",
    "#     if end_col != 2048:\n",
    "#         start_col += 256\n",
    "#         end_col += 256\n",
    "#     else:\n",
    "#         start_col, end_col = 0, 256\n",
    "#         start_row += 256\n",
    "#         end_row += 256\n",
    "#     block = np.reshape(block, VEC_SIZE)\n",
    "#     split_img[i, :] = block\n",
    "#     zero_locs = np.where(block < 0.035)[0]\n",
    "#     if (zero_locs.size < block.size / 3):\n",
    "#         dist[i] = np.linalg.norm(split_img[i, :] - pca.components_[2, :])\n",
    "#         for j in range(3, pca.components_.shape[0]):\n",
    "#             if dist[i, 0] > np.linalg.norm(split_img[i, :] - pca.components_[j, :]):\n",
    "#                 dist[i, 0] = np.linalg.norm(split_img[i, :] - pca.components_[j, :])\n",
    "#                 dist[i, 1] = j\n",
    "#     else:\n",
    "#         dist[i, 1] = -1\n",
    "\n",
    "# # print(dist)\n",
    "\n",
    "# fig, axes = plt.subplots(8, 8, figsize = (18, 18));\n",
    "# for i, ax in enumerate(axes.flat):\n",
    "#     ax.imshow(split_img[i, :].reshape(256, 256, 3))\n",
    "#     ax.title.set_text(str(dist[i, 1]))\n",
    "#     ax.axis('off')\n",
    "\n",
    "# fig, axes = plt.subplots(8, 8, figsize = (18, 18));\n",
    "# for i, ax in enumerate(axes.flat):\n",
    "#     if dist[i, 1] >= 0:\n",
    "#         ax.imshow((pca.components_[int(dist[i, 1]), :].reshape((VEC_DIM)) * 255).astype(float).clip(0, 1))\n",
    "#     else:\n",
    "#         ax.imshow(split_img[i, :].reshape(256, 256, 3))\n",
    "#     ax.axis('off')"
   ]
  },
  {
   "cell_type": "code",
   "execution_count": null,
   "metadata": {},
   "outputs": [],
   "source": [
    "# end of notebook"
   ]
  }
 ],
 "metadata": {
  "kernelspec": {
   "display_name": "Python 3 (ipykernel)",
   "language": "python",
   "name": "python3"
  },
  "language_info": {
   "codemirror_mode": {
    "name": "ipython",
    "version": 3
   },
   "file_extension": ".py",
   "mimetype": "text/x-python",
   "name": "python",
   "nbconvert_exporter": "python",
   "pygments_lexer": "ipython3",
   "version": "3.8.12"
  }
 },
 "nbformat": 4,
 "nbformat_minor": 4
}
