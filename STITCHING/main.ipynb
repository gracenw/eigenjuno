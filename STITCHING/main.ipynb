{
 "cells": [
  {
   "cell_type": "code",
   "execution_count": 1,
   "metadata": {},
   "outputs": [
    {
     "name": "stdout",
     "output_type": "stream",
     "text": [
      "CSPICE_N0067\n"
     ]
    }
   ],
   "source": [
    "## import libraries\n",
    "from stitch import *\n",
    "from mpl_toolkits.mplot3d import Axes3D\n",
    "import matplotlib.pyplot as plt\n",
    "import matplotlib.image as mpimg\n",
    "import time, sys, math, zipfile, shutil, pickle, threading, multiprocessing"
   ]
  },
  {
   "cell_type": "code",
   "execution_count": 2,
   "metadata": {},
   "outputs": [
    {
     "name": "stdout",
     "output_type": "stream",
     "text": [
      "Current perijove directory: /home/uzumochi/eigenjuno/DATA/RAW/PERIJOVE-20\n"
     ]
    }
   ],
   "source": [
    "## set directory - desired perijove to be processed (make sure STITCHING/KERNELS contains proper kernels)\n",
    "perijove = 20\n",
    "os.chdir(\"../DATA/RAW/PERIJOVE-\" + str(perijove))\n",
    "print(\"Current perijove directory: \" + os.getcwd())"
   ]
  },
  {
   "cell_type": "code",
   "execution_count": 3,
   "metadata": {},
   "outputs": [],
   "source": [
    "## unzip junocam website data - just drop zip files in perijove directory and run this block!\n",
    "for file in sorted(os.listdir('.')):\n",
    "    meta_num = file.split('-')[0]\n",
    "    if fnmatch.fnmatch(file, '*-Data.zip') and not os.path.isfile(meta_num + '-Metadata.json'):\n",
    "        print('Unzipped', meta_num, 'image and data')\n",
    "        with zipfile.ZipFile(file, 'r') as zip_ref:\n",
    "            names = zip_ref.namelist()\n",
    "            for n in names:\n",
    "                zip_ref.extract(n)\n",
    "        with zipfile.ZipFile(meta_num + '-ImageSet.zip', 'r') as zip_ref:\n",
    "            names = zip_ref.namelist()\n",
    "            for n in names:\n",
    "                if 'raw' in n:\n",
    "                    zip_ref.extract(n)\n",
    "for file in sorted(os.listdir('.')):\n",
    "    if fnmatch.fnmatch(file, '*.zip') or fnmatch.fnmatch(file, '*Zone.Identifier'):\n",
    "        os.remove(file)\n",
    "\n",
    "if os.path.isdir('DataSet'):\n",
    "    for file in sorted(os.listdir('DataSet')):\n",
    "        shutil.move('DataSet/' + file, file)\n",
    "    os.rmdir('DataSet')\n",
    "\n",
    "if os.path.isdir('ImageSet'):\n",
    "    for file in sorted(os.listdir('ImageSet')):\n",
    "        shutil.move('ImageSet/' + file, file)\n",
    "    os.rmdir('ImageSet')"
   ]
  },
  {
   "cell_type": "code",
   "execution_count": 4,
   "metadata": {},
   "outputs": [
    {
     "name": "stdout",
     "output_type": "stream",
     "text": [
      "Processing the following images\n",
      "Begin stitching threads\n",
      "End stitching threads\n"
     ]
    }
   ],
   "source": [
    "## multithreaded execution - process all images in directory that have don't already have a stitched version\n",
    "img_nums = []\n",
    "for file in os.listdir('.'):\n",
    "    if file.endswith('.json') and not os.path.isfile(file.split('-')[0] + '-Stitched.png'):\n",
    "        img_nums.append(file.split('-')[0])\n",
    "print_str = 'Processing the following images: '\n",
    "for im in img_nums:\n",
    "    print_str += (im + ', ')\n",
    "print_str = print_str[:-2]\n",
    "print(print_str)\n",
    "\n",
    "num_cpus = multiprocessing.cpu_count() - 1\n",
    "curr = 0\n",
    "\n",
    "print(\"Begin stitching threads\")\n",
    "\n",
    "while curr < len(img_nums):\n",
    "    threads = []\n",
    "    num_threads = num_cpus if num_cpus < len(img_nums) else len(img_nums)\n",
    "    print('Running ' + str(num_threads) + ' threads')\n",
    "    for t in range(num_threads):\n",
    "        try:\n",
    "            threads.append(threading.Thread(target = stitch, args = (str(img_nums[curr]), )))\n",
    "        except IndexError:\n",
    "            print('\\nStarting new round of threads')\n",
    "        threads[t].start()\n",
    "        curr += 1\n",
    "    for t in threads:\n",
    "        t.join()\n",
    "\n",
    "print(\"End stitching threads\")"
   ]
  },
  {
   "cell_type": "code",
   "execution_count": 5,
   "metadata": {},
   "outputs": [],
   "source": [
    "## copy all processed images and their metadata + surface rasters to testing directory\n",
    "for file in sorted(os.listdir('.')):\n",
    "    if fnmatch.fnmatch(file, '*-Metadata.json') or fnmatch.fnmatch(file, '*-Raster.npy') \\\n",
    "        or fnmatch.fnmatch(file, '*-Stitched.png'):\n",
    "        shutil.copy(file, '../../TEST/' + file)"
   ]
  },
  {
   "cell_type": "code",
   "execution_count": null,
   "metadata": {},
   "outputs": [],
   "source": []
  }
 ],
 "metadata": {
  "kernelspec": {
   "display_name": "Python 3 (ipykernel)",
   "language": "python",
   "name": "python3"
  },
  "language_info": {
   "codemirror_mode": {
    "name": "ipython",
    "version": 3
   },
   "file_extension": ".py",
   "mimetype": "text/x-python",
   "name": "python",
   "nbconvert_exporter": "python",
   "pygments_lexer": "ipython3",
   "version": "3.8.12"
  }
 },
 "nbformat": 4,
 "nbformat_minor": 4
}
